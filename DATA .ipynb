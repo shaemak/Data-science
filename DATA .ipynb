{
  "metadata": {
    "kernelspec": {
      "name": "python",
      "display_name": "Python (Pyodide)",
      "language": "python"
    },
    "language_info": {
      "codemirror_mode": {
        "name": "python",
        "version": 3
      },
      "file_extension": ".py",
      "mimetype": "text/x-python",
      "name": "python",
      "nbconvert_exporter": "python",
      "pygments_lexer": "ipython3",
      "version": "3.8"
    }
  },
  "nbformat_minor": 5,
  "nbformat": 4,
  "cells": [
    {
      "id": "ebca70b4-e255-4665-8d71-39406773766b",
      "cell_type": "markdown",
      "source": "Extracting and Visualizing Stock Data",
      "metadata": {}
    },
    {
      "id": "5ae0a25e-65b5-4ae3-8bb7-0755d8a9e99e",
      "cell_type": "markdown",
      "source": "Description\n\n\n   Extracting essential data from a dataset and displaying it is a necessary part of data science; therefore individuals can make correct decisions        based on the data. In this assignment, you will extract some stock data, you will then display this data in a graph.",
      "metadata": {}
    },
    {
      "id": "cd7e2d13-4f12-4b08-8906-34c8f21823cf",
      "cell_type": "markdown",
      "source": "Table of Contents:\n\n.Define a Function that Makes a Graph\n.Question 1: Use yfinance to Extract Stock Data\n.Question 2: Use Webscraping to Extract Tesla Revenue Data\n.Question 3: Use yfinance to Extract Stock Data\n.Question 4: Use Webscraping to Extract GME Revenue Data\n.Question 5: Plot Tesla Stock Graph\n.Question 6: Plot GameStop Stock Graph\n.Estimated Time Needed: 30 min",
      "metadata": {}
    },
    {
      "id": "177d7d00-4398-4e79-9a8f-46ed167530c6",
      "cell_type": "markdown",
      "source": "In[1]:!pip install yfinance\n#!pip install pandas\n#!pip install requests\n!pip install bs4\n#!pip install plotly",
      "metadata": {}
    },
    {
      "id": "7e770162-c7eb-4839-a7fa-c01b9deed1a8",
      "cell_type": "markdown",
      "source": "Requirement already satisfied: yfinance in /opt/conda/envs/Python-3.7-main/lib/python3.7/site-packages (0.1.59)\nRequirement already satisfied: multitasking>=0.0.7 in /opt/conda/envs/Python-3.7-main/lib/python3.7/site-packages (from yfinance) (0.0.9)\nRequirement already satisfied: lxml>=4.5.1 in /opt/conda/envs/Python-3.7-main/lib/python3.7/site-packages (from yfinance) (4.5.1)\nRequirement already satisfied: numpy>=1.15 in /opt/conda/envs/Python-3.7-main/lib/python3.7/site-packages (from yfinance) (1.18.5)\nRequirement already satisfied: pandas>=0.24 in /opt/conda/envs/Python-3.7-main/lib/python3.7/site-packages (from yfinance) (1.0.5)\nRequirement already satisfied: requests>=2.20 in /opt/conda/envs/Python-3.7-main/lib/python3.7/site-packages (from yfinance) (2.24.0)\nRequirement already satisfied: python-dateutil>=2.6.1 in /opt/conda/envs/Python-3.7-main/lib/python3.7/site-packages (from pandas>=0.24->yfinance) (2.8.1)\nRequirement already satisfied: pytz>=2017.2 in /opt/conda/envs/Python-3.7-main/lib/python3.7/site-packages (from pandas>=0.24->yfinance) (2020.1)\nRequirement already satisfied: certifi>=2017.4.17 in /opt/conda/envs/Python-3.7-main/lib/python3.7/site-packages (from requests>=2.20->yfinance) (2020.12.5)\nRequirement already satisfied: urllib3!=1.25.0,!=1.25.1,<1.26,>=1.21.1 in /opt/conda/envs/Python-3.7-main/lib/python3.7/site-packages (from requests>=2.20->yfinance) (1.25.9)\nRequirement already satisfied: chardet<4,>=3.0.2 in /opt/conda/envs/Python-3.7-main/lib/python3.7/site-packages (from requests>=2.20->yfinance) (3.0.4)\nRequirement already satisfied: idna<3,>=2.5 in /opt/conda/envs/Python-3.7-main/lib/python3.7/site-packages (from requests>=2.20->yfinance) (2.9)\nRequirement already satisfied: six>=1.5 in /opt/conda/envs/Python-3.7-main/lib/python3.7/site-packages (from python-dateutil>=2.6.1->pandas>=0.24->yfinance) (1.15.0)\nRequirement already satisfied: bs4 in /opt/conda/envs/Python-3.7-main/lib/python3.7/site-packages (0.0.1)\nRequirement already satisfied: beautifulsoup4 in /opt/conda/envs/Python-3.7-main/lib/python3.7/site-packages (from bs4) (4.9.1)\nRequirement already satisfied: soupsieve>1.2 in /opt/conda/envs/Python-3.7-main/lib/python3.7/site-packages (from beautifulsoup4->bs4) (2.0.1)",
      "metadata": {}
    },
    {
      "id": "0832442d-3f16-4e7c-a68c-8c5b1d54afab",
      "cell_type": "markdown",
      "source": "In[2]:import yfinance as yf\nimport pandas as pd\nimport requests\nfrom bs4 import BeautifulSoup\nimport plotly.graph_objects as go\nfrom plotly.subplots import make_subplots",
      "metadata": {}
    },
    {
      "id": "c247fe05-c587-4d25-8ad8-3f4b330b4989",
      "cell_type": "markdown",
      "source": "Define Graphing Function\nIn this section, we define the function make_graph. You don't have to know how the function works, you should only care about the inputs. It takes a dataframe with stock data (dataframe must contain Date and Close columns), a dataframe with revenue data (dataframe must contain Date and Revenue columns), and the name of the stock.",
      "metadata": {}
    },
    {
      "id": "83d6c6c9-be0a-4a20-a2d4-111da14948cc",
      "cell_type": "markdown",
      "source": "In[3]: def make_graph(stock_data, revenue_data, stock):\n    fig = make_subplots(rows=2, cols=1, shared_xaxes=True, subplot_titles=(\"Historical Share Price\", \"Historical Revenue\"), vertical_spacing = .3)\n    fig.add_trace(go.Scatter(x=pd.to_datetime(stock_data.Date, infer_datetime_format=True), y=stock_data.Close.astype(\"float\"), name=\"Share Price\"), row=1, col=1)\n    fig.add_trace(go.Scatter(x=pd.to_datetime(revenue_data.Date, infer_datetime_format=True), y=revenue_data.Revenue.astype(\"float\"), name=\"Revenue\"), row=2, col=1)\n    fig.update_xaxes(title_text=\"Date\", row=1, col=1)\n    fig.update_xaxes(title_text=\"Date\", row=2, col=1)\n    fig.update_yaxes(title_text=\"Price ($US)\", row=1, col=1)\n    fig.update_yaxes(title_text=\"Revenue ($US Millions)\", row=2, col=1)\n    fig.update_layout(showlegend=False,\n    height=900,\n    title=stock,\n    xaxis_rangeslider_visible=True)\n    fig.show()",
      "metadata": {}
    },
    {
      "id": "8f34298b-f379-4899-b3a7-e9e8ae3728a5",
      "cell_type": "markdown",
      "source": "Question 1: Use yfinance to Extract Stock Data",
      "metadata": {}
    },
    {
      "id": "049abf10-52ad-450a-be34-e109d188ede9",
      "cell_type": "markdown",
      "source": "Using the Ticker function enter the ticker symbol of the stock we want to extract data on to create a ticker object. The stock is Tesla and its ticker symbol is TSLA.",
      "metadata": {}
    },
    {
      "id": "2a06440e-ab06-41e7-b212-efe5b3277799",
      "cell_type": "markdown",
      "source": "In [4]:tesla = yf.Ticker(\"TSLA\")",
      "metadata": {}
    },
    {
      "id": "7485d5d4-2673-48ff-8937-4eca44774eb4",
      "cell_type": "markdown",
      "source": "Using the ticker object and the function history extract stock information and save it in a dataframe named tesla_data. Set the period parameter to max so we get information for the maximum amount of time.",
      "metadata": {}
    },
    {
      "id": "69f8a820-fa2a-44f7-9d30-495603f83a83",
      "cell_type": "markdown",
      "source": "In [5]:tesla_data = tesla.history(period=\"max\")",
      "metadata": {}
    },
    {
      "id": "773e5138-7d54-4964-808f-6189ada55a5f",
      "cell_type": "markdown",
      "source": "Reset the index using the reset_index(inplace=True) function on the tesla_data DataFrame and display the first five rows of the tesla_data dataframe using the head function. Take a screenshot of the results and code from the beginning of Question 1 to the results below.",
      "metadata": {}
    },
    {
      "id": "4c84afaf-90c0-47c3-ac54-0a90b078e58b",
      "cell_type": "markdown",
      "source": "In [6]:tesla_data.reset_index(inplace=True)\n       tesla_data.head()",
      "metadata": {}
    },
    {
      "id": "e5220e88-5aa4-4e94-ab7b-e503746f2542",
      "cell_type": "markdown",
      "source": "\nDate\tOpen\tHigh\tLow\tClose\tVolume\tDividends\tStock Splits\n0\t2010-06-29\t3.800\t5.000\t3.508\t4.778\t93831500\t0\t0.0\n1\t2010-06-30\t5.158\t6.084\t4.660\t4.766\t85935500\t0\t0.0\n2\t2010-07-01\t5.000\t5.184\t4.054\t4.392\t41094000\t0\t0.0\n3\t2010-07-02\t4.600\t4.620\t3.742\t3.840\t25699000\t0\t0.0\n4\t2010-07-06\t4.000\t4.000\t3.166\t3.222\t34334500\t0\t0.0\n",
      "metadata": {}
    },
    {
      "id": "690ad5c3-aeb1-495e-b56b-749b8153b49b",
      "cell_type": "markdown",
      "source": "Question 2: Use Webscraping to Extract Tesla Revenue Data",
      "metadata": {}
    },
    {
      "id": "515db135-6e25-470e-bca3-cd8976bf8673",
      "cell_type": "markdown",
      "source": "Use the requests library to download the webpage https://www.macrotrends.net/stocks/charts/TSLA/tesla/revenue. Save the text of the response as a variable named html_data.",
      "metadata": {}
    },
    {
      "id": "39185d2e-aaa0-42bd-94df-a9b934cb70da",
      "cell_type": "markdown",
      "source": "In [7]:url= \"https://www.macrotrends.net/stocks/charts/TSLA/tesla/revenue\"\n             html_data=requests.get(url).text",
      "metadata": {}
    },
    {
      "id": "e9044fcd-5a67-4ecc-a7b2-c934c0c658ed",
      "cell_type": "markdown",
      "source": "Parse the html data using beautiful_soup.",
      "metadata": {}
    },
    {
      "id": "9f7d81fa-d31a-4090-b945-77beb674472c",
      "cell_type": "markdown",
      "source": "In [8]:soup = BeautifulSoup(html_data,\"html5lib\")",
      "metadata": {}
    },
    {
      "id": "f2a5999e-3b52-4d20-816c-3d5abc4697ce",
      "cell_type": "markdown",
      "source": "Using beautiful soup extract the table with Tesla Quarterly Revenue and store it into a dataframe named tesla_revenue. The dataframe should have columns Date and Revenue. Make sure the comma and dollar sign is removed from the Revenue column.",
      "metadata": {}
    },
    {
      "id": "d4d0af5d-c57d-4263-b327-96c58b78b8e0",
      "cell_type": "markdown",
      "source": "In [9]:tesla_revenue= pd.read_html(url, match=\"Tesla Quarterly Revenue\", flavor='bs4')[0]\ntesla_revenue=tesla_revenue.rename(columns = {'Tesla Quarterly Revenue(Millions of US $)': 'Date', 'Tesla Quarterly Revenue(Millions of US $).1': 'Revenue'}, inplace = False)\ntesla_revenue[\"Revenue\"] = tesla_revenue[\"Revenue\"].str.replace(\",\",\"\").str.replace(\"$\",\"\")\ntesla_revenue.head()",
      "metadata": {}
    },
    {
      "id": "f1ec93e8-1733-41bc-a73c-b1d6cf1acbb9",
      "cell_type": "markdown",
      "source": "\nOut [9]: Date  Revenue\n\n0\t2020-12-31\t10744\n1\t2020-09-30\t8771\n2\t2020-06-30\t6036\n3\t2020-03-31\t5985\n4\t2019-12-31\t7384\n",
      "metadata": {}
    },
    {
      "id": "9c16a2c8-6b46-47d0-9616-136e62526bc4",
      "cell_type": "markdown",
      "source": "Click here if you need help removing the dollar sign and comma",
      "metadata": {}
    },
    {
      "id": "b4c8609f-d121-4f94-aaa7-be341fd2594b",
      "cell_type": "markdown",
      "source": "If you parsed the HTML table by row and column you can use the replace function on the string\n    \n    revenue = col[1].text.replace(\"$\", \"\").replace(\",\", \"\")\n    \nIf you use the read_html function you can use the replace function on the string representation of the column\n\n    tesla_revenue[\"Revenue\"] = tesla_revenue[\"Revenue\"].str.replace(\"$\", \"\").str.replace(\",\", \"\")\n",
      "metadata": {}
    },
    {
      "id": "9c373b76-83a3-4a6b-ab0e-0819ecf09293",
      "cell_type": "markdown",
      "source": "Remove the rows in the dataframe that are empty strings or are NaN in the Revenue column. Print the entire tesla_revenue DataFrame to see if you have any.",
      "metadata": {}
    },
    {
      "id": "6f66d459-57a0-421a-b5d5-2c591abbf8c4",
      "cell_type": "markdown",
      "source": "In [10]: tesla_revenue",
      "metadata": {}
    },
    {
      "id": "4c2412c0-b2a0-450c-b737-cd45e0d5dfa7",
      "cell_type": "markdown",
      "source": "Out[10]: date\t    Revenue\n0   2020-12-31\t10744\n1\t2020-09-30\t8771\n2\t2020-06-30\t6036\n3\t2020-03-31\t5985\n4\t2019-12-31\t7384\n5\t2019-09-30\t6303\n6\t2019-06-30\t6350\n7\t2019-03-31\t4541\n8\t2018-12-31\t7226\n9\t2018-09-30\t6824\n10\t2018-06-30\t4002\n11\t2018-03-31\t3409\n12\t2017-12-31\t3288\n13\t2017-09-30\t2985\n14\t2017-06-30\t2790\n15\t2017-03-31\t2696\n16\t2016-12-31\t2285\n17\t2016-09-30\t2298\n18\t2016-06-30\t1270\n19\t2016-03-31\t1147\n20\t2015-12-31\t1214\n21\t2015-09-30\t937\n22\t2015-06-30\t955\n23\t2015-03-31\t940\n24\t2014-12-31\t957\n25\t2014-09-30\t852\n26\t2014-06-30\t769\n27\t2014-03-31\t621\n28\t2013-12-31\t615\n29\t2013-09-30\t431\n30\t2013-06-30\t405\n31\t2013-03-31\t562\n32\t2012-12-31\t306\n33\t2012-09-30\t50\n34\t2012-06-30\t27\n35\t2012-03-31\t30\n36\t2011-12-31\t39\n37\t2011-09-30\t58\n38\t2011-06-30\t58\n39\t2011-03-31\t49\n40\t2010-12-31\t36\n41\t2010-09-30\t31\n42\t2010-06-30\t28\n43\t2010-03-31\t21\n44\t2009-12-31\tNaN\n45\t2009-09-30\t46\n46\t2009-06-30\t27\n47\t2008-12-31\tNaN\n",
      "metadata": {}
    },
    {
      "id": "ab4a3dd7-d4bd-4e49-a3c4-9a46fb689d79",
      "cell_type": "markdown",
      "source": "Click here if you need help removing the Nan or empty strings",
      "metadata": {}
    },
    {
      "id": "76031df4-d31a-4638-8681-669119256ac7",
      "cell_type": "markdown",
      "source": "    \nIf you have NaN in the Revenue column\n    \n    tesla_revenue.dropna(inplace=True)\n    \nIf you have emtpty string in the Revenue column\n\n    tesla_revenue = tesla_revenue[tesla_revenue['Revenue'] != \"\"]\n",
      "metadata": {}
    },
    {
      "id": "5536b29c-2695-4fde-b0f4-fb01f8dc0e1d",
      "cell_type": "markdown",
      "source": "Display the last 5 row of the tesla_revenue dataframe using the tail function. Take a screenshot of the results.",
      "metadata": {}
    },
    {
      "id": "dbc42388-c122-44e9-beb1-df67bc247222",
      "cell_type": "markdown",
      "source": " In[11]: tesla_revenue.dropna(inplace=True)\n         tesla_revenue.tail()",
      "metadata": {}
    },
    {
      "id": "225ecea7-b107-4df0-9a8d-d5541ae26f4a",
      "cell_type": "markdown",
      "source": "Out[11]: \tDate\tRevenue\n        41 2010-09-30\t31\n        42  2010-06-30\t28\n        43\t2010-03-31\t21\n        45\t2009-09-30\t46\n        46\t2009-06-30\t27\n",
      "metadata": {}
    },
    {
      "id": "94ee027b-20d7-44b1-8b7a-b1b267c0b714",
      "cell_type": "markdown",
      "source": "Question 3: Use yfinance to Extract Stock Data",
      "metadata": {}
    },
    {
      "id": "82ba2d80-302f-42cd-8747-faec96a3564e",
      "cell_type": "markdown",
      "source": "Using the Ticker function enter the ticker symbol of the stock we want to extract data on to create a ticker object. The stock is GameStop and its ticker symbol is GME.",
      "metadata": {}
    },
    {
      "id": "c9bf3688-2a9b-4490-a3a9-1f341ef5c66a",
      "cell_type": "markdown",
      "source": "In[12]: gamestop = yf.Ticker(\"GME\")\n",
      "metadata": {}
    },
    {
      "id": "7df154dc-aa9f-4e24-a00a-e7202c955dd4",
      "cell_type": "markdown",
      "source": "Using the ticker object and the function history extract stock information and save it in a dataframe named gme_data. Set the period parameter to max so we get information for the maximum amount of time.",
      "metadata": {}
    },
    {
      "id": "e3e08e41-ac29-4511-ae2e-31bedce427fe",
      "cell_type": "markdown",
      "source": "In[13]: gme_data=gamestop.history(period=\"max\")",
      "metadata": {}
    },
    {
      "id": "2be74626-844d-4ff4-b932-3cc2f43a076c",
      "cell_type": "markdown",
      "source": "Reset the index using the reset_index(inplace=True) function on the gme_data DataFrame and display the first five rows of the gme_data dataframe using the head function. Take a screenshot of the results and code from the beginning of Question 3 to the results below.",
      "metadata": {}
    },
    {
      "id": "a9aeace6-e20f-47f3-9191-c9dcfd81cc78",
      "cell_type": "markdown",
      "source": "In[14]: gme_data.reset_index(inplace=True)\ngme_data.head()\n",
      "metadata": {}
    },
    {
      "id": "a3c4d99a-6a6c-4e2f-b5ef-9933977b3a0a",
      "cell_type": "markdown",
      "source": "Out[14]: Date   Open\t     High\t     LowClose  volume\t  Dividends\tStock Splits\n0\t2002-02-13\t6.480513\t6.773399\t6.413183\t6.766666\t19054000 0.0\t0.0\n1\t2002-02-14\t6.850831\t6.864296\t6.682506\t6.733003\t2755400\t 0.0\t0.0\n2\t2002-02-15\t6.733001\t6.749833\t6.632006\t6.699336\t2097400\t 0.0\t0.0\n3\t2002-02-19\t6.665671\t6.665671\t6.312189\t6.430017\t1852600  0.0 \t0.0\n4\t2002-02-20\t6.463681\t6.648838\t6.413183\t6.648838\t1723200  0.0 \t0.0\n",
      "metadata": {}
    },
    {
      "id": "4cbd142a-c18a-4891-ab6e-0a2432b1da03",
      "cell_type": "markdown",
      "source": "Question 4: Use Webscraping to Extract GME Revenue Data",
      "metadata": {}
    },
    {
      "id": "71e5c999-c958-4209-9d88-004d43373dd9",
      "cell_type": "markdown",
      "source": "Use the requests library to download the webpage https://www.macrotrends.net/stocks/charts/GME/gamestop/revenue. Save the text of the response as a variable named html_data.",
      "metadata": {}
    },
    {
      "id": "5f34ef48-53b5-4ccc-9d81-910e405375eb",
      "cell_type": "markdown",
      "source": "In[15]: url=\"https://www.macrotrends.net/stocks/charts/GME/gamestop/revenue\"\n        html_data=requests.get(url).text",
      "metadata": {}
    },
    {
      "id": "b774b0ac-ea9a-4ccd-9cd7-1607865e6b39",
      "cell_type": "markdown",
      "source": "Parse the html data using beautiful_soup.",
      "metadata": {}
    },
    {
      "id": "6ef531fa-a02e-4066-afca-3cc5cc59bd37",
      "cell_type": "markdown",
      "source": "In[16]: soup = BeautifulSoup(html_data,\"html5lib\")",
      "metadata": {}
    },
    {
      "id": "b6d46aaa-2491-44f4-9b47-92387383b742",
      "cell_type": "markdown",
      "source": "Using beautiful soup extract the table with GameStop Quarterly Revenue and store it into a dataframe named gme_revenue. The dataframe should have columns Date and Revenue. Make sure the comma and dollar sign is removed from the Revenue column using a method similar to what you did in Question 2.",
      "metadata": {}
    },
    {
      "id": "4e26557d-ff33-4a5a-ba4a-3f4cf87f98a9",
      "cell_type": "markdown",
      "source": "In[17]: gme_revenue= pd.read_html(url, match=\"GameStop Quarterly Revenue\", flavor='bs4')[0]\n        gme_revenue=gme_revenue.rename(columns = {'GameStop Quarterly Revenue(Millions of US $)': 'Date', 'GameStop Quarterly Revenue(Millions of US            $).1': 'Revenue'}, inplace = False)\n        gme_revenue[\"Revenue\"] = gme_revenue[\"Revenue\"].str.replace(\",\",\"\").str.replace(\"$\",\"\")",
      "metadata": {}
    },
    {
      "id": "baf48675-2846-48f5-9847-10b3d7fbafa1",
      "cell_type": "markdown",
      "source": "Display the last five rows of the gme_revenue dataframe using the tail function. Take a screenshot of the results.",
      "metadata": {}
    },
    {
      "id": "edf5936c-f61d-4271-ad16-4da36cc03055",
      "cell_type": "markdown",
      "source": "In[18]: gme_revenue.dropna(inplace=True)\n        gme_revenue.tail()",
      "metadata": {}
    },
    {
      "id": "525660ca-4c23-479c-a854-87f0461e25cb",
      "cell_type": "markdown",
      "source": "Out[18]:    Date\t     Revenue\n  59\t 2006-01-31\t      1667\n  60\t 2005-10-31\t      534\n  61\t 2005-07-31\t      416\n  62\t 2005-04-30\t      475\n  63     2005-01-31\t      709\n",
      "metadata": {}
    },
    {
      "id": "d7e5f10b-d218-4489-9193-50b73b53d8e5",
      "cell_type": "markdown",
      "source": "Question 5: Plot Tesla Stock Graph",
      "metadata": {}
    },
    {
      "id": "c6991835-a124-4bf3-ae7f-292df3028c38",
      "cell_type": "markdown",
      "source": "Use the make_graph function to graph the Tesla Stock Data, also provide a title for the graph. The structure to call the make_graph function is make_graph(tesla_data, tesla_revenue, 'Tesla')",
      "metadata": {}
    },
    {
      "id": "16efc165-585c-4325-9314-bf7f846f8525",
      "cell_type": "markdown",
      "source": "In[19]: make_graph(tesla_data, tesla_revenue, 'Tesla Stock Data Graph')\n",
      "metadata": {}
    },
    {
      "id": "b91c3d79-6c8b-413e-8dbf-47ba62f2f115",
      "cell_type": "markdown",
      "source": "Question 6: Plot GameStop Stock Graph",
      "metadata": {}
    },
    {
      "id": "87e3a5f1-2feb-4456-97e7-6213e48b193e",
      "cell_type": "markdown",
      "source": "Use the make_graph function to graph the GameStop Stock Data, also provide a title for the graph. The structure to call the make_graph function is make_graph(gme_data, gme_revenue, 'GameStop').",
      "metadata": {}
    },
    {
      "id": "f4d9bdca-4399-4dc6-be64-c07109bed490",
      "cell_type": "markdown",
      "source": "In[20]: make_graph(gme_data, gme_revenue, 'GameStop Stock Data Graph')",
      "metadata": {}
    },
    {
      "id": "117fc91b-eeeb-4af4-b438-24bd6c5eb6d3",
      "cell_type": "markdown",
      "source": "                 About the Authors:",
      "metadata": {}
    },
    {
      "id": "d2e0244f-0bf3-4e30-a681-a6c7ab4f185e",
      "cell_type": "markdown",
      "source": "Joseph Santarcangelo has a PhD in Electrical Engineering, his research focused on using machine learning, signal processing, and computer vision to determine how videos impact human cognition. Joseph has been working for IBM since he completed his PhD.",
      "metadata": {}
    },
    {
      "id": "40eedbb4-72b4-4224-8d53-b7592cf354ec",
      "cell_type": "markdown",
      "source": "Change Log\n\nDate (YYYY-MM-DD)\tVersion\tChanged By\tChange Description\n2020-11-10\t1.1\tMalika Singla\tDeleted the Optional part\n2020-08-27\t1.0\tMalika Singla\tAdded lab to GitLab\n",
      "metadata": {}
    }
  ]
}