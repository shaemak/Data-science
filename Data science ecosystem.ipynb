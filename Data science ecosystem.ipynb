{
 "cells": [
  {
   "cell_type": "markdown",
   "id": "01a5a888-bce7-49b7-ba1e-575c4b9af44a",
   "metadata": {},
   "source": [
    "Data Science Tools and Ecosystem"
   ]
  },
  {
   "cell_type": "markdown",
   "id": "cc0e1a16-a3d1-419e-a0a8-2cee1c12d196",
   "metadata": {},
   "source": [
    "In this notebook, Data Science Tools and Ecosystem are summarized."
   ]
  },
  {
   "cell_type": "markdown",
   "id": "51742ed0-7e98-4f82-be4f-43177f5189c0",
   "metadata": {},
   "source": [
    "Some of the popular languages that Data Scientists use are:\n",
    "\n",
    "1. Python.\n",
    "2. R.\n",
    "3. SQL.\n",
    "4. Java.\n",
    "5. Julia.\n",
    "6. Scala.\n",
    "7. C/C++.\n",
    "8. JavaScript."
   ]
  },
  {
   "cell_type": "markdown",
   "id": "a78acfee-02cb-4f72-b6c0-e0f2b1feb1ba",
   "metadata": {},
   "source": [
    "Some of the commonly used libraries used by Data Scientists include:\n",
    "\n",
    "1. TensorFlow.\n",
    "2. NumPy.\n",
    "3. SciPy.\n",
    "4. Pandas.\n",
    "5. Matplotlib.\n",
    "6. Keras.\n",
    "7. SciKit-Learn.\n",
    "8. PyTorch.     etc...."
   ]
  },
  {
   "cell_type": "markdown",
   "id": "528b0b5f-ca2c-4d79-b41f-35f38f846805",
   "metadata": {},
   "source": [
    "\n",
    "                                                      Data Science Tools\n",
    "                                                     ______________________ \n",
    "                                                                SAS. \n",
    "                                                       Apache hadoop.\t\t\n",
    "                                                         transorflow."
   ]
  },
  {
   "cell_type": "markdown",
   "id": "2d73743a-1ba8-42d1-9402-f9cba355ad48",
   "metadata": {},
   "source": [
    "           Below are a few examples of evaluating arithmetic expressions in Python"
   ]
  },
  {
   "cell_type": "markdown",
   "id": "a446c900-8fa6-47f7-963c-5f41748c3c9c",
   "metadata": {},
   "source": [
    "In[1]:  # Arithmetic operations\n",
    "        code = compile(\"5 + 4\", \"<string>\", \"eval\")\n",
    "        eval(code)\n",
    "        # Result: 9\n"
   ]
  },
  {
   "cell_type": "markdown",
   "id": "6da20625-3c26-4b07-a807-335ec255ccc8",
   "metadata": {},
   "source": [
    "Out[1]: 9"
   ]
  },
  {
   "cell_type": "markdown",
   "id": "ba8d626b-c0ce-42ef-ba68-a5318d9a6ff1",
   "metadata": {},
   "source": [
    "In[2]: code1 = compile(\"(5 + 7) * 2\", \"<string>\", \"eval\")\n",
    "       eval(code1)\n",
    "       # Result: 24\n"
   ]
  },
  {
   "cell_type": "markdown",
   "id": "d96640fe-15d8-476f-a43e-da3c9c139069",
   "metadata": {},
   "source": [
    "Out[2]: 24"
   ]
  },
  {
   "cell_type": "markdown",
   "id": "fe948e4a-3b33-45f8-90c2-8fd84994131f",
   "metadata": {},
   "source": [
    "In[3]: (3*4)+5\n",
    "       # Result: 17"
   ]
  },
  {
   "cell_type": "markdown",
   "id": "88484593-da3e-45a5-ad1c-8fc4a13559bb",
   "metadata": {},
   "source": [
    "Out[3]: 17"
   ]
  },
  {
   "cell_type": "markdown",
   "id": "7e9f8ee7-8ddb-4990-8de2-0da66abd62ea",
   "metadata": {},
   "source": [
    "In[4]: days = 0\n",
    "       hours = 0\n",
    "       mins = 0\n",
    "\n",
    "       time = 200\n",
    "       #days = time / 1440\n",
    "       leftover_minutes = time % 1440\n",
    "       hours = leftover_minutes / 60\n",
    "       #mins = time - (days*1440) - (hours*60)\n",
    "       print(str(days) + \" days, \" + str(hours) + \" hours, \" + str(mins) +  \" mins. \")\n",
    "\n",
    "       # Result: 3.3333333333333335 hours"
   ]
  },
  {
   "cell_type": "markdown",
   "id": "3edc2dda-2d8f-41ed-86a7-f166df176672",
   "metadata": {},
   "source": [
    "Out[4]: 0 days, 3.3333333333333335 hours, 0 mins. "
   ]
  },
  {
   "cell_type": "markdown",
   "id": "cf0d868c-1fd3-4a9e-920d-9edb35b328cb",
   "metadata": {},
   "source": [
    "                 Objective. \n",
    "                 \n",
    ".List popular language for data science\n",
    ".List popular libraries for data science \n",
    ".List of well known data science tools\n",
    ".How to provide comments in the cell"
   ]
  },
  {
   "cell_type": "code",
   "execution_count": null,
   "id": "093bda57-c28b-4e20-b681-d86ae2754e9b",
   "metadata": {},
   "outputs": [],
   "source": [
    "                                  Author. \n",
    "                                gourav kumar"
   ]
  }
 ],
 "metadata": {
  "kernelspec": {
   "display_name": "",
   "name": ""
  },
  "language_info": {
   "name": ""
  }
 },
 "nbformat": 4,
 "nbformat_minor": 5
}
